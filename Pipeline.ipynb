{
 "cells": [
  {
   "cell_type": "markdown",
   "id": "d6a091ae",
   "metadata": {},
   "source": [
    "## Setting up"
   ]
  },
  {
   "cell_type": "markdown",
   "id": "58fc423a",
   "metadata": {},
   "source": [
    "Run the following commands in CLI  :\n",
    "```\n",
    "git clone https://github.com/dmort27/epitran.git\n",
    "\n",
    "```\n",
    "**Flite** is needed for english transliteration, run the following commands to install it :\n",
    "```\n",
    "git clone https://github.com/festvox/flite.git\n",
    "cd flite/\n",
    "\n",
    "./configure && make\n",
    "sudo make install\n",
    "cd testsuite\n",
    "make lex_lookup\n",
    "sudo cp lex_lookup /usr/local/bin\n",
    "```\n",
    "\n",
    "For further information about the module usage, you can consult [this github repo](https://github.com/dmort27/epitran). "
   ]
  },
  {
   "cell_type": "markdown",
   "id": "f406c89c",
   "metadata": {},
   "source": [
    "### You can uncomment the following code block to install the two packages "
   ]
  },
  {
   "cell_type": "raw",
   "id": "157d6981",
   "metadata": {},
   "source": [
    "!pip install beautifulsoup4\n",
    "!pip install requests"
   ]
  },
  {
   "cell_type": "markdown",
   "id": "2ffe940d",
   "metadata": {},
   "source": [
    "## Importing libraries"
   ]
  },
  {
   "cell_type": "code",
   "execution_count": 1,
   "id": "9d292d20",
   "metadata": {},
   "outputs": [
    {
     "name": "stderr",
     "output_type": "stream",
     "text": [
      "INFO:numexpr.utils:NumExpr defaulting to 4 threads.\n"
     ]
    }
   ],
   "source": [
    "import epitran \n",
    "import pandas as pd\n",
    "import numpy as np \n",
    "from bs4 import BeautifulSoup\n",
    "import requests \n",
    "import time"
   ]
  },
  {
   "cell_type": "markdown",
   "id": "e6e939c2",
   "metadata": {},
   "source": [
    "## Nationalities scrapper"
   ]
  },
  {
   "cell_type": "code",
   "execution_count": 2,
   "id": "6cb0229b",
   "metadata": {},
   "outputs": [],
   "source": [
    "def origins_name(name):\n",
    "    headers = {'User-Agent': 'Mozilla/5.0'}\n",
    "    url = f\"https://www.familysearch.org/fr/surname?surname={name}\"\n",
    "    c = []\n",
    "    \n",
    "    page = requests.get(url,headers = headers)\n",
    "    soup = BeautifulSoup(page.content, 'html.parser')\n",
    "    countries = soup.find_all('h3', class_ = 'countryTitleText')\n",
    "    \n",
    "    for k in range(len(countries)):\n",
    "        \n",
    "        country = countries[k].text\n",
    "        c.append(country)\n",
    "        \n",
    "    time.sleep(10) ## This parameter slows down computation time, it can be set to a lower value but the\n",
    "                   ## scrapper might not work on more than 10 names. \n",
    "    \n",
    "    return c"
   ]
  },
  {
   "cell_type": "markdown",
   "id": "211d7312",
   "metadata": {},
   "source": [
    "## Nationalities dictionary"
   ]
  },
  {
   "cell_type": "code",
   "execution_count": 3,
   "id": "a4366eaf",
   "metadata": {},
   "outputs": [],
   "source": [
    "## This dictionnary is not exhaustive and can be updated depending on the nationalities \n",
    "## returned by the website https://www.familysearch.org/fr/\n",
    "\n",
    "dic_nationalities = {\n",
    "    'Chili' : epitran.Epitran('spa-Latn'),\n",
    "    'Russie' : epitran.Epitran('rus-Cyrl'),\n",
    "    'Argentine' : epitran.Epitran('spa-Latn'),\n",
    "    'Liban' : epitran.Epitran('ara-Arab'),\n",
    "    'Allemagne' : epitran.Epitran('deu-Latn'),\n",
    "    'Hongrie' : epitran.Epitran('hun-Latn'),\n",
    "    'Italie' : epitran.Epitran('ita-Latn'),\n",
    "    'Inde' : epitran.Epitran('hin-Deva'),\n",
    "    'Bangladesh' : epitran.Epitran('hin-Deva'),\n",
    "    'Autriche' : epitran.Epitran('deu-Latn'),\n",
    "    'Espagne' : epitran.Epitran('spa-Latn'),\n",
    "    'Pérou' : epitran.Epitran('spa-Latn'),\n",
    "    'Équateur' : epitran.Epitran('spa-Latn'),\n",
    "    'Porto Rico' : epitran.Epitran('spa-Latn'),\n",
    "    'Uruguay' : epitran.Epitran('spa-Latn'),\n",
    "    'Bolivia' : epitran.Epitran('spa-Latn'),\n",
    "    'Croatie' : epitran.Epitran('hrv-Latn'),\n",
    "    'Brésil' : epitran.Epitran('por-Latn'),\n",
    "    'Mexique' : epitran.Epitran('spa-Latn'),\n",
    "    'Pays-Bas' : epitran.Epitran('nld-Latn'),\n",
    "    'Portugal' : epitran.Epitran('por-Latn'),\n",
    "    'Pologne' : epitran.Epitran('pol-Latn'),\n",
    "    'Viêt-Nam' : epitran.Epitran('vie-Latn'),\n",
    "    \"États-Unis d'Amérique\" : epitran.Epitran('eng-Latn'),\n",
    "    \"Canada\" : epitran.Epitran('eng-Latn'),\n",
    "    \"Galles\" : epitran.Epitran('eng-Latn'),\n",
    "    \"Écosse\" : epitran.Epitran('eng-Latn'),\n",
    "    \"Angleterre\" : epitran.Epitran('eng-Latn'),\n",
    "    \"Afrique du Sud\" : epitran.Epitran('eng-Latn'),\n",
    "    \"Irlande\" : epitran.Epitran('eng-Latn')\n",
    "}"
   ]
  },
  {
   "cell_type": "markdown",
   "id": "e1423020",
   "metadata": {},
   "source": [
    "## Ready to use functions"
   ]
  },
  {
   "cell_type": "code",
   "execution_count": 4,
   "id": "80b4a6ee",
   "metadata": {},
   "outputs": [],
   "source": [
    "## Function to transliterate a surname to a phoneme\n",
    "\n",
    "## Arbitarirly, we chose to return 2 french transliterations.\n",
    "\n",
    "def g2p(name , n_translations = 2):\n",
    "    \n",
    "    translations = []\n",
    "    epitrans = [epitran.Epitran('fra-Latn'), epitran.Epitran('fra-Latn-np')]\n",
    "    countries = [\"France\", \"France bis\"]\n",
    "    count = 2\n",
    "    \n",
    "    if n_translations > 2:\n",
    "        \n",
    "        origins = origins_name(str(name)) ## This is the longest step, hence we only look for origins if the \n",
    "                                          ## user wants more than 2 translations.\n",
    "            \n",
    "        i = 0\n",
    "        while i < len(origins) and count <= n_translations:\n",
    "            \n",
    "            if origins[i] in dic_nationalities.keys() and dic_nationalities[origins[i]] not in epitrans:\n",
    "                \n",
    "                epitrans.append(dic_nationalities[origins[i]])\n",
    "                countries.append(origins[i]) \n",
    "                count += 1\n",
    "            \n",
    "            i += 1\n",
    "                \n",
    "        epitrans = epitrans\n",
    "        \n",
    "    for k in range(min(len(epitrans),n_translations)):\n",
    "        \n",
    "        translation = epitrans[k].transliterate(name) \n",
    "        translations.append(translation)\n",
    "        \n",
    "    res = dict(zip(countries,translations))\n",
    "    \n",
    "    return res"
   ]
  },
  {
   "cell_type": "code",
   "execution_count": 5,
   "id": "566d6abd",
   "metadata": {},
   "outputs": [],
   "source": [
    "def g2p_series(series, n_translations = 2, nat = False):\n",
    "     \n",
    "    res  = series.map(lambda x : g2p(x,n_translations))\n",
    "    \n",
    "    if nat == False :\n",
    "        \n",
    "        return res.map(lambda x : list(x.values()))\n",
    "    \n",
    "    else:\n",
    "        \n",
    "        return res.map(lambda x : list(x.values())), res.map(lambda x : list(x.keys()))\n",
    "        "
   ]
  },
  {
   "cell_type": "markdown",
   "id": "7ff58aaa",
   "metadata": {},
   "source": [
    "## How to use the two provided functions"
   ]
  },
  {
   "cell_type": "markdown",
   "id": "6c3f5057",
   "metadata": {},
   "source": [
    "### On a single name"
   ]
  },
  {
   "cell_type": "code",
   "execution_count": 6,
   "id": "0de1a4ae",
   "metadata": {},
   "outputs": [
    {
     "name": "stdout",
     "output_type": "stream",
     "text": [
      "{'France': 'kɔ̃vɛʀ', 'France bis': 'kɔnvɛrt', \"États-Unis d'Amérique\": 'kɑnvɹ̩t'}\n",
      "{'France': 'ʀɔsiɲɔl', 'France bis': 'rɔssiɲɔl'}\n"
     ]
    }
   ],
   "source": [
    "trans = g2p('Convert', n_translations = 4) ## It will look for 4 different translations\n",
    "print(trans)\n",
    "trans = g2p('Rossignol') ## The second parameter is optionnal and is arbitrarily set to 2\n",
    "print(trans)"
   ]
  },
  {
   "cell_type": "markdown",
   "id": "3ae2433b",
   "metadata": {},
   "source": [
    "### On a pandas Series"
   ]
  },
  {
   "cell_type": "code",
   "execution_count": 7,
   "id": "1705ac0f",
   "metadata": {},
   "outputs": [],
   "source": [
    "df = pd.read_csv('../Dataset.csv', nrows = 10)\n",
    "df = df.rename(columns={'Unnamed: 0' : 'Nom propre', '0' : 'Phonétique'})\n",
    "df = df.drop('Phonétique', axis = 1)"
   ]
  },
  {
   "cell_type": "code",
   "execution_count": 8,
   "id": "44662701",
   "metadata": {},
   "outputs": [
    {
     "data": {
      "text/html": [
       "<div>\n",
       "<style scoped>\n",
       "    .dataframe tbody tr th:only-of-type {\n",
       "        vertical-align: middle;\n",
       "    }\n",
       "\n",
       "    .dataframe tbody tr th {\n",
       "        vertical-align: top;\n",
       "    }\n",
       "\n",
       "    .dataframe thead th {\n",
       "        text-align: right;\n",
       "    }\n",
       "</style>\n",
       "<table border=\"1\" class=\"dataframe\">\n",
       "  <thead>\n",
       "    <tr style=\"text-align: right;\">\n",
       "      <th></th>\n",
       "      <th>Nom propre</th>\n",
       "    </tr>\n",
       "  </thead>\n",
       "  <tbody>\n",
       "    <tr>\n",
       "      <th>0</th>\n",
       "      <td>Abadie</td>\n",
       "    </tr>\n",
       "    <tr>\n",
       "      <th>1</th>\n",
       "      <td>Abart</td>\n",
       "    </tr>\n",
       "    <tr>\n",
       "      <th>2</th>\n",
       "      <td>Salem</td>\n",
       "    </tr>\n",
       "    <tr>\n",
       "      <th>3</th>\n",
       "      <td>Abraham</td>\n",
       "    </tr>\n",
       "    <tr>\n",
       "      <th>4</th>\n",
       "      <td>Adam</td>\n",
       "    </tr>\n",
       "  </tbody>\n",
       "</table>\n",
       "</div>"
      ],
      "text/plain": [
       "  Nom propre\n",
       "0     Abadie\n",
       "1      Abart\n",
       "2      Salem\n",
       "3    Abraham\n",
       "4       Adam"
      ]
     },
     "execution_count": 8,
     "metadata": {},
     "output_type": "execute_result"
    }
   ],
   "source": [
    "df.head(5)"
   ]
  },
  {
   "cell_type": "code",
   "execution_count": 9,
   "id": "91f184ac",
   "metadata": {},
   "outputs": [
    {
     "data": {
      "text/html": [
       "<div>\n",
       "<style scoped>\n",
       "    .dataframe tbody tr th:only-of-type {\n",
       "        vertical-align: middle;\n",
       "    }\n",
       "\n",
       "    .dataframe tbody tr th {\n",
       "        vertical-align: top;\n",
       "    }\n",
       "\n",
       "    .dataframe thead th {\n",
       "        text-align: right;\n",
       "    }\n",
       "</style>\n",
       "<table border=\"1\" class=\"dataframe\">\n",
       "  <thead>\n",
       "    <tr style=\"text-align: right;\">\n",
       "      <th></th>\n",
       "      <th>Nom propre</th>\n",
       "      <th>Translation</th>\n",
       "    </tr>\n",
       "  </thead>\n",
       "  <tbody>\n",
       "    <tr>\n",
       "      <th>0</th>\n",
       "      <td>Abadie</td>\n",
       "      <td>[abadi, abadi]</td>\n",
       "    </tr>\n",
       "    <tr>\n",
       "      <th>1</th>\n",
       "      <td>Abart</td>\n",
       "      <td>[abaʀ, abart]</td>\n",
       "    </tr>\n",
       "    <tr>\n",
       "      <th>2</th>\n",
       "      <td>Salem</td>\n",
       "      <td>[salɑ̃, salɛm]</td>\n",
       "    </tr>\n",
       "    <tr>\n",
       "      <th>3</th>\n",
       "      <td>Abraham</td>\n",
       "      <td>[abʀaɑ̃, abraham]</td>\n",
       "    </tr>\n",
       "    <tr>\n",
       "      <th>4</th>\n",
       "      <td>Adam</td>\n",
       "      <td>[adɑ̃, adam]</td>\n",
       "    </tr>\n",
       "  </tbody>\n",
       "</table>\n",
       "</div>"
      ],
      "text/plain": [
       "  Nom propre        Translation\n",
       "0     Abadie     [abadi, abadi]\n",
       "1      Abart      [abaʀ, abart]\n",
       "2      Salem     [salɑ̃, salɛm]\n",
       "3    Abraham  [abʀaɑ̃, abraham]\n",
       "4       Adam       [adɑ̃, adam]"
      ]
     },
     "execution_count": 9,
     "metadata": {},
     "output_type": "execute_result"
    }
   ],
   "source": [
    "df['Translation'] = g2p_series(df['Nom propre'])\n",
    "df.head()"
   ]
  },
  {
   "cell_type": "markdown",
   "id": "c9447b7c",
   "metadata": {},
   "source": [
    "Two parameters can be added : \n",
    "- *n_translations* :  arbitrarily set to 2. If higher than 2, computational time will be quite large.\n",
    "- *nat* :  arbitrarily set to False. If set to True, it will return another series in which will be stored the nationalities corresponding to the translations"
   ]
  },
  {
   "cell_type": "code",
   "execution_count": 10,
   "id": "fbcf446f",
   "metadata": {},
   "outputs": [
    {
     "data": {
      "text/html": [
       "<div>\n",
       "<style scoped>\n",
       "    .dataframe tbody tr th:only-of-type {\n",
       "        vertical-align: middle;\n",
       "    }\n",
       "\n",
       "    .dataframe tbody tr th {\n",
       "        vertical-align: top;\n",
       "    }\n",
       "\n",
       "    .dataframe thead th {\n",
       "        text-align: right;\n",
       "    }\n",
       "</style>\n",
       "<table border=\"1\" class=\"dataframe\">\n",
       "  <thead>\n",
       "    <tr style=\"text-align: right;\">\n",
       "      <th></th>\n",
       "      <th>Nom propre</th>\n",
       "      <th>Translation</th>\n",
       "      <th>Nationalities</th>\n",
       "    </tr>\n",
       "  </thead>\n",
       "  <tbody>\n",
       "    <tr>\n",
       "      <th>0</th>\n",
       "      <td>Abadie</td>\n",
       "      <td>[abadi, abadi, əbædi]</td>\n",
       "      <td>[France, France bis, États-Unis d'Amérique]</td>\n",
       "    </tr>\n",
       "    <tr>\n",
       "      <th>1</th>\n",
       "      <td>Abart</td>\n",
       "      <td>[abaʀ, abart, abart]</td>\n",
       "      <td>[France, France bis, Italie]</td>\n",
       "    </tr>\n",
       "    <tr>\n",
       "      <th>2</th>\n",
       "      <td>Salem</td>\n",
       "      <td>[salɑ̃, salɛm, sejləm]</td>\n",
       "      <td>[France, France bis, États-Unis d'Amérique]</td>\n",
       "    </tr>\n",
       "    <tr>\n",
       "      <th>3</th>\n",
       "      <td>Abraham</td>\n",
       "      <td>[abʀaɑ̃, abraham, ejbɹəhæm]</td>\n",
       "      <td>[France, France bis, États-Unis d'Amérique]</td>\n",
       "    </tr>\n",
       "    <tr>\n",
       "      <th>4</th>\n",
       "      <td>Adam</td>\n",
       "      <td>[adɑ̃, adam, ædəm]</td>\n",
       "      <td>[France, France bis, Écosse]</td>\n",
       "    </tr>\n",
       "  </tbody>\n",
       "</table>\n",
       "</div>"
      ],
      "text/plain": [
       "  Nom propre                  Translation  \\\n",
       "0     Abadie        [abadi, abadi, əbædi]   \n",
       "1      Abart         [abaʀ, abart, abart]   \n",
       "2      Salem       [salɑ̃, salɛm, sejləm]   \n",
       "3    Abraham  [abʀaɑ̃, abraham, ejbɹəhæm]   \n",
       "4       Adam           [adɑ̃, adam, ædəm]   \n",
       "\n",
       "                                 Nationalities  \n",
       "0  [France, France bis, États-Unis d'Amérique]  \n",
       "1                 [France, France bis, Italie]  \n",
       "2  [France, France bis, États-Unis d'Amérique]  \n",
       "3  [France, France bis, États-Unis d'Amérique]  \n",
       "4                 [France, France bis, Écosse]  "
      ]
     },
     "execution_count": 10,
     "metadata": {},
     "output_type": "execute_result"
    }
   ],
   "source": [
    "df['Translation'], df['Nationalities'] = g2p_series(df['Nom propre'], n_translations = 3, nat = True)\n",
    "df.head()"
   ]
  },
  {
   "cell_type": "code",
   "execution_count": null,
   "id": "78b64193",
   "metadata": {},
   "outputs": [],
   "source": []
  }
 ],
 "metadata": {
  "kernelspec": {
   "display_name": "Python 3 (ipykernel)",
   "language": "python",
   "name": "python3"
  },
  "language_info": {
   "codemirror_mode": {
    "name": "ipython",
    "version": 3
   },
   "file_extension": ".py",
   "mimetype": "text/x-python",
   "name": "python",
   "nbconvert_exporter": "python",
   "pygments_lexer": "ipython3",
   "version": "3.9.7"
  }
 },
 "nbformat": 4,
 "nbformat_minor": 5
}
